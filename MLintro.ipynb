{
  "nbformat": 4,
  "nbformat_minor": 0,
  "metadata": {
    "colab": {
      "name": "MLintro.ipynb",
      "provenance": [],
      "collapsed_sections": [],
      "authorship_tag": "ABX9TyM/hTcdTJFNBBkZSik0Gyiq",
      "include_colab_link": true
    },
    "kernelspec": {
      "name": "python3",
      "display_name": "Python 3"
    }
  },
  "cells": [
    {
      "cell_type": "markdown",
      "metadata": {
        "id": "view-in-github",
        "colab_type": "text"
      },
      "source": [
        "<a href=\"https://colab.research.google.com/github/themightyNJ/MachineLearning/blob/master/MLintro.ipynb\" target=\"_parent\"><img src=\"https://colab.research.google.com/assets/colab-badge.svg\" alt=\"Open In Colab\"/></a>"
      ]
    },
    {
      "cell_type": "markdown",
      "metadata": {
        "id": "fpq-d9cwE2YE",
        "colab_type": "text"
      },
      "source": [
        "# **Machine Learning - InternNexus**\n",
        "\n",
        "---\n",
        "\n",
        "\n",
        "---\n",
        "\n",
        "\n",
        "\n",
        "# Introduction:\n",
        "\n",
        "\n",
        "\n",
        "---\n",
        "\n",
        "\n",
        "\n",
        "## 1.   What is Machine Learning?\n",
        "\n",
        "> In simple words, **\"Extraction of Knowledge from Data\"** is known as Machine Learning.\n",
        "\n",
        "\n",
        "> OR\n",
        "\n",
        "> The ability of a machine to improve its performance ‘P’ in some class of task ‘T’ from past experiences ‘E’ without been explicitly programmed.\n",
        "\n",
        "\n",
        "\n",
        "\n",
        "> ![ML Definition](https://d1m75rqqgidzqn.cloudfront.net/2019/10/What-is-Machine-Learning-Machine-learning-model-vs-traditional-model.jpg)\n",
        "\n",
        "\n",
        "\n",
        "---\n",
        "\n",
        "\n",
        "\n",
        "## 2.   Why it is getting so much buzz?\n",
        "\n",
        "\n",
        ">  ![Data Growth](https://www.audiotech.com/trends-magazine/images/articles/2014/02/pg16.png)\n",
        "\n",
        "\n",
        "\n",
        "---\n",
        "\n",
        "## 3.   Why you should become a Machine Learning Engineer or a Data Scientist?\n",
        "\n",
        "\n",
        "> **Data Scientist is the sexiest job of 21st Century!**  - Harvard Business Review\n",
        "\n",
        "*   **Growing Demand**: According to a survey by The Hindu, there are more than 1 lakh vacancies available in India alone and the vacancies are growing at a pace of 45%.\n",
        "\n",
        "\n",
        "*   **One of the highest paying jobs**: Average salary in India lies around INR 6,50,000.\n",
        "\n",
        "*   **They add value to the business**: Data is one of the most valuable asset to a company.\n",
        "\n",
        "\n",
        "\n",
        "---\n",
        "\n",
        "## 4.   Road to build a career in this field\n",
        "\n",
        "\n",
        ">  * Programming Skills\n",
        "    * Python, R or Julia\n",
        "    * Database Query Language\n",
        "\n",
        "\n",
        "> * Statistics \n",
        "    * Distributions\n",
        "    * Multi-variate Analysis\n",
        "    * Estimators\n",
        "\n",
        "\n",
        "\n",
        "> * Machine Learning Algorithms\n",
        "\n",
        "\n",
        "\n",
        "> * Data Visualization & Data Wrangling\n",
        "\n",
        "\n",
        "---\n",
        "\n",
        "\n",
        "# Types of Machine Learning\n",
        "### 1. Supervised Learning\n",
        "![Supervised Machine Leaning](https://miro.medium.com/max/2494/1*nJCYz0UIJNtRF7Et2Pi_aQ.png)\n",
        "    \n",
        "\n",
        "*   Classification (For Discrete Data)\n",
        "\n",
        "> ![Classification](https://developers.google.com/machine-learning/guides/text-classification/images/TextClassificationExample.png)\n",
        "\n",
        "*   Regression (For Continuous Data)\n",
        "\n",
        "\n",
        "> ![Regression](https://www.edureka.co/blog/wp-content/uploads/2018/06/Linear-Regression-473x300.png)\n",
        "\n",
        "\n",
        "\n",
        "\n",
        "### 2. UnSupervised Learning\n",
        "![UnSupervised Learning](https://intellipaat.com/mediaFiles/2019/07/ML10.png)\n",
        "\n",
        "\n",
        "* Clustering\n",
        "\n",
        "\n",
        "> ![Clustering](https://data-flair.training/blogs/wp-content/uploads/sites/2/2019/08/introduction-to-clustering.png)\n",
        "\n",
        "### 3. Reinforcement Learning\n",
        "![Reinforcement Learning](https://www.guru99.com/images/1/082319_0514_Reinforceme1.png)\n",
        "\n",
        "\n",
        "\n",
        "\n",
        "\n",
        "\n",
        "\n",
        "\n",
        "\n",
        "\n",
        "\n",
        "\n",
        "\n",
        "\n",
        "\n",
        "\n"
      ]
    },
    {
      "cell_type": "markdown",
      "metadata": {
        "id": "wMdeYMj4Fh5S",
        "colab_type": "text"
      },
      "source": [
        "# Pillars of Machine Learning\n",
        "### 1. Data\n",
        "**Feature**: A feature is a measurable property or parameter of the data-set.\n",
        "\n",
        "**Feature Vector**: It is a set of multiple numeric features. We use it as an input to the machine learning model for training and prediction purposes."
      ]
    },
    {
      "cell_type": "code",
      "metadata": {
        "id": "V-E6iJX9QVNn",
        "colab_type": "code",
        "outputId": "50c68696-2300-46e8-c700-c7af10322a21",
        "colab": {
          "base_uri": "https://localhost:8080/",
          "height": 402
        }
      },
      "source": [
        "import pandas as pd\n",
        "from sklearn.datasets import load_iris\n",
        "dataset = load_iris()\n",
        "dataframe = pd.DataFrame(dataset[\"data\"],columns = dataset[\"feature_names\"])\n",
        "dataframe[\"class\"] = dataset[\"target\"]\n",
        "dataframe"
      ],
      "execution_count": 104,
      "outputs": [
        {
          "output_type": "execute_result",
          "data": {
            "text/html": [
              "<div>\n",
              "<style scoped>\n",
              "    .dataframe tbody tr th:only-of-type {\n",
              "        vertical-align: middle;\n",
              "    }\n",
              "\n",
              "    .dataframe tbody tr th {\n",
              "        vertical-align: top;\n",
              "    }\n",
              "\n",
              "    .dataframe thead th {\n",
              "        text-align: right;\n",
              "    }\n",
              "</style>\n",
              "<table border=\"1\" class=\"dataframe\">\n",
              "  <thead>\n",
              "    <tr style=\"text-align: right;\">\n",
              "      <th></th>\n",
              "      <th>sepal length (cm)</th>\n",
              "      <th>sepal width (cm)</th>\n",
              "      <th>petal length (cm)</th>\n",
              "      <th>petal width (cm)</th>\n",
              "      <th>class</th>\n",
              "    </tr>\n",
              "  </thead>\n",
              "  <tbody>\n",
              "    <tr>\n",
              "      <th>0</th>\n",
              "      <td>5.1</td>\n",
              "      <td>3.5</td>\n",
              "      <td>1.4</td>\n",
              "      <td>0.2</td>\n",
              "      <td>0</td>\n",
              "    </tr>\n",
              "    <tr>\n",
              "      <th>1</th>\n",
              "      <td>4.9</td>\n",
              "      <td>3.0</td>\n",
              "      <td>1.4</td>\n",
              "      <td>0.2</td>\n",
              "      <td>0</td>\n",
              "    </tr>\n",
              "    <tr>\n",
              "      <th>2</th>\n",
              "      <td>4.7</td>\n",
              "      <td>3.2</td>\n",
              "      <td>1.3</td>\n",
              "      <td>0.2</td>\n",
              "      <td>0</td>\n",
              "    </tr>\n",
              "    <tr>\n",
              "      <th>3</th>\n",
              "      <td>4.6</td>\n",
              "      <td>3.1</td>\n",
              "      <td>1.5</td>\n",
              "      <td>0.2</td>\n",
              "      <td>0</td>\n",
              "    </tr>\n",
              "    <tr>\n",
              "      <th>4</th>\n",
              "      <td>5.0</td>\n",
              "      <td>3.6</td>\n",
              "      <td>1.4</td>\n",
              "      <td>0.2</td>\n",
              "      <td>0</td>\n",
              "    </tr>\n",
              "    <tr>\n",
              "      <th>...</th>\n",
              "      <td>...</td>\n",
              "      <td>...</td>\n",
              "      <td>...</td>\n",
              "      <td>...</td>\n",
              "      <td>...</td>\n",
              "    </tr>\n",
              "    <tr>\n",
              "      <th>145</th>\n",
              "      <td>6.7</td>\n",
              "      <td>3.0</td>\n",
              "      <td>5.2</td>\n",
              "      <td>2.3</td>\n",
              "      <td>2</td>\n",
              "    </tr>\n",
              "    <tr>\n",
              "      <th>146</th>\n",
              "      <td>6.3</td>\n",
              "      <td>2.5</td>\n",
              "      <td>5.0</td>\n",
              "      <td>1.9</td>\n",
              "      <td>2</td>\n",
              "    </tr>\n",
              "    <tr>\n",
              "      <th>147</th>\n",
              "      <td>6.5</td>\n",
              "      <td>3.0</td>\n",
              "      <td>5.2</td>\n",
              "      <td>2.0</td>\n",
              "      <td>2</td>\n",
              "    </tr>\n",
              "    <tr>\n",
              "      <th>148</th>\n",
              "      <td>6.2</td>\n",
              "      <td>3.4</td>\n",
              "      <td>5.4</td>\n",
              "      <td>2.3</td>\n",
              "      <td>2</td>\n",
              "    </tr>\n",
              "    <tr>\n",
              "      <th>149</th>\n",
              "      <td>5.9</td>\n",
              "      <td>3.0</td>\n",
              "      <td>5.1</td>\n",
              "      <td>1.8</td>\n",
              "      <td>2</td>\n",
              "    </tr>\n",
              "  </tbody>\n",
              "</table>\n",
              "<p>150 rows × 5 columns</p>\n",
              "</div>"
            ],
            "text/plain": [
              "     sepal length (cm)  sepal width (cm)  ...  petal width (cm)  class\n",
              "0                  5.1               3.5  ...               0.2      0\n",
              "1                  4.9               3.0  ...               0.2      0\n",
              "2                  4.7               3.2  ...               0.2      0\n",
              "3                  4.6               3.1  ...               0.2      0\n",
              "4                  5.0               3.6  ...               0.2      0\n",
              "..                 ...               ...  ...               ...    ...\n",
              "145                6.7               3.0  ...               2.3      2\n",
              "146                6.3               2.5  ...               1.9      2\n",
              "147                6.5               3.0  ...               2.0      2\n",
              "148                6.2               3.4  ...               2.3      2\n",
              "149                5.9               3.0  ...               1.8      2\n",
              "\n",
              "[150 rows x 5 columns]"
            ]
          },
          "metadata": {
            "tags": []
          },
          "execution_count": 104
        }
      ]
    },
    {
      "cell_type": "markdown",
      "metadata": {
        "id": "rahBiCySnp9X",
        "colab_type": "text"
      },
      "source": [
        "### 2. Tasks\n",
        "To decide what to do with the data.\n",
        "\n",
        "These can be of following kind:\n",
        "* Classification\n",
        "* Regression\n",
        "* Clustering\n",
        "\n",
        "### 3. Model\n",
        "Also known as “hypothesis”, a machine learning model is the mathematical representation of a real-world process. A machine learning algorithm along with the training data builds a machine learning model.\n",
        "\n",
        "Basic example: \n",
        "\n",
        "![Linear Regression](https://www.edureka.co/blog/wp-content/uploads/2018/06/Linear-Regression-473x300.png)\n",
        "\n",
        "**y = ax + c**      \n",
        "\n",
        "(Linear Function)\n",
        "\n",
        "where, 'y' is dependent variable, 'x' is independent variable, 'a' is coefficient and 'c' is constant.\n",
        "\n",
        "### 4. Loss\n",
        "Loss is the penalty for a bad prediction. That is, loss is a number indicating how bad the model's prediction was on a single example. If the model's prediction is perfect, the loss is zero; otherwise, the loss is greater.\n",
        "\n",
        "Or\n",
        "\n",
        "The difference between actual and predicted value.\n",
        "\n",
        "Mean Squared Error:\n",
        "\n",
        "![Mean Square Error](https://miro.medium.com/max/1026/1*SGhoeJ_BgcfqU06CmX41rw.png)\n",
        "\n",
        "### 5. Learning\n",
        "To find the correct value of the coefficients; this can be done in a manner of search problem by taking an rough estimate to begin with.\n",
        "\n",
        "#### **Gradient Descent:**\n",
        "Gradient descent is an optimization algorithm used to minimize some function by iteratively moving in the direction of steepest descent as defined by the negative of the gradient. We use this to update the parameters of our model.\n",
        "> ![Gradient Descent Formula](data:image/png;base64,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)\n",
        "\n",
        "\n",
        "> ![Gradient Descent](https://ml-cheatsheet.readthedocs.io/en/latest/_images/gradient_descent_demystified.png)\n",
        "\n",
        "### 6. Evaluation\n",
        "\n",
        "Making of a judgement about something.\n",
        "> **Checking accuracy**"
      ]
    },
    {
      "cell_type": "markdown",
      "metadata": {
        "id": "5Pw9gqsOpXfk",
        "colab_type": "text"
      },
      "source": [
        "# **Machine Learning Algorithms!**\n",
        "* ##  Supervised Learning Algorithms:\n",
        "    * ### Linear Regression \n",
        "    Fitting a linear equation (a straight line) to the observed data.\n",
        "\n",
        "    > ![Linear Regression](https://encrypted-tbn0.gstatic.com/images?q=tbn%3AANd9GcS1ZsLWXRVjoWSswkS9xyhSGdPvWxRuPmAWWiydYAQLJeCwN5Cj&usqp=CAU)"
      ]
    },
    {
      "cell_type": "code",
      "metadata": {
        "id": "81wb6xTGwNGh",
        "colab_type": "code",
        "colab": {}
      },
      "source": [
        "'''Pandas is a library used to process raw data and to perform data manipulation and analysis'''\n",
        "import pandas as pd\n",
        "'''Numpy is a library used for adding support for high-dimensional arrays and to perform mathematical functions'''\n",
        "import numpy as np\n",
        "'''Matplotlib is a library used for data visualization'''\n",
        "import matplotlib.pyplot as plt\n",
        "%matplotlib inline\n",
        "'''Seaborn gives more flexibility and acts as an extenstion to matplotlib'''\n",
        "import seaborn as sns\n",
        "sns.set()\n",
        "'''Scikit Learn Library'''\n",
        "'''train_test_split helps to split a data into 2 parts i.e for training and testing which helps us in evaluation'''\n",
        "from sklearn.model_selection import train_test_split\n",
        "'''Linear Regression Model'''\n",
        "from sklearn.linear_model import LinearRegression\n",
        "'''Evaluating using Coefficient of determination (R squared score)'''\n",
        "'''It is the proportion of the variance in the dependent variable that is predictable from the independent variable'''\n",
        "from sklearn.metrics import r2_score"
      ],
      "execution_count": 0,
      "outputs": []
    },
    {
      "cell_type": "code",
      "metadata": {
        "id": "OEyHVaqIzGBd",
        "colab_type": "code",
        "outputId": "51b9beae-d290-4745-f538-bb02b705f174",
        "colab": {
          "base_uri": "https://localhost:8080/",
          "height": 343
        }
      },
      "source": [
        "'''Dataset we are gonna work on'''\n",
        "path = \"https://raw.githubusercontent.com/themightyNJ/MachineLearning/master/Salary_Data.csv\"\n",
        "data = pd.read_csv(path)\n",
        "data.head(10)"
      ],
      "execution_count": 106,
      "outputs": [
        {
          "output_type": "execute_result",
          "data": {
            "text/html": [
              "<div>\n",
              "<style scoped>\n",
              "    .dataframe tbody tr th:only-of-type {\n",
              "        vertical-align: middle;\n",
              "    }\n",
              "\n",
              "    .dataframe tbody tr th {\n",
              "        vertical-align: top;\n",
              "    }\n",
              "\n",
              "    .dataframe thead th {\n",
              "        text-align: right;\n",
              "    }\n",
              "</style>\n",
              "<table border=\"1\" class=\"dataframe\">\n",
              "  <thead>\n",
              "    <tr style=\"text-align: right;\">\n",
              "      <th></th>\n",
              "      <th>YearsExperience</th>\n",
              "      <th>Salary</th>\n",
              "    </tr>\n",
              "  </thead>\n",
              "  <tbody>\n",
              "    <tr>\n",
              "      <th>0</th>\n",
              "      <td>1.1</td>\n",
              "      <td>39343.0</td>\n",
              "    </tr>\n",
              "    <tr>\n",
              "      <th>1</th>\n",
              "      <td>1.3</td>\n",
              "      <td>46205.0</td>\n",
              "    </tr>\n",
              "    <tr>\n",
              "      <th>2</th>\n",
              "      <td>1.5</td>\n",
              "      <td>37731.0</td>\n",
              "    </tr>\n",
              "    <tr>\n",
              "      <th>3</th>\n",
              "      <td>2.0</td>\n",
              "      <td>43525.0</td>\n",
              "    </tr>\n",
              "    <tr>\n",
              "      <th>4</th>\n",
              "      <td>2.2</td>\n",
              "      <td>39891.0</td>\n",
              "    </tr>\n",
              "    <tr>\n",
              "      <th>5</th>\n",
              "      <td>2.9</td>\n",
              "      <td>56642.0</td>\n",
              "    </tr>\n",
              "    <tr>\n",
              "      <th>6</th>\n",
              "      <td>3.0</td>\n",
              "      <td>60150.0</td>\n",
              "    </tr>\n",
              "    <tr>\n",
              "      <th>7</th>\n",
              "      <td>3.2</td>\n",
              "      <td>54445.0</td>\n",
              "    </tr>\n",
              "    <tr>\n",
              "      <th>8</th>\n",
              "      <td>3.2</td>\n",
              "      <td>64445.0</td>\n",
              "    </tr>\n",
              "    <tr>\n",
              "      <th>9</th>\n",
              "      <td>3.7</td>\n",
              "      <td>57189.0</td>\n",
              "    </tr>\n",
              "  </tbody>\n",
              "</table>\n",
              "</div>"
            ],
            "text/plain": [
              "   YearsExperience   Salary\n",
              "0              1.1  39343.0\n",
              "1              1.3  46205.0\n",
              "2              1.5  37731.0\n",
              "3              2.0  43525.0\n",
              "4              2.2  39891.0\n",
              "5              2.9  56642.0\n",
              "6              3.0  60150.0\n",
              "7              3.2  54445.0\n",
              "8              3.2  64445.0\n",
              "9              3.7  57189.0"
            ]
          },
          "metadata": {
            "tags": []
          },
          "execution_count": 106
        }
      ]
    },
    {
      "cell_type": "code",
      "metadata": {
        "id": "jqZ_7vUFz-lh",
        "colab_type": "code",
        "colab": {}
      },
      "source": [
        "'''Selecting our feature and target'''\n",
        "feature = np.array(data[\"YearsExperience\"]).reshape(-1,1)\n",
        "target = np.array(data[\"Salary\"]).reshape(-1,1)\n",
        "'''Splitting it into 2 parts: Train and Test'''\n",
        "x_train,x_test,y_train,y_test = train_test_split(feature,target,test_size=0.2,random_state=2)"
      ],
      "execution_count": 0,
      "outputs": []
    },
    {
      "cell_type": "code",
      "metadata": {
        "id": "BdFfRw7O1QMc",
        "colab_type": "code",
        "outputId": "d3603ac4-f283-487a-ee1f-f8cc7fa001a0",
        "colab": {
          "base_uri": "https://localhost:8080/",
          "height": 301
        }
      },
      "source": [
        "'''Visualizing realtion'''\n",
        "plt.xlabel(\"Years of experience\")\n",
        "plt.ylabel(\"Salary\")\n",
        "plt.title(\"Relation Graph\")\n",
        "plt.plot(x_train,y_train)\n",
        "plt.scatter(x_train,y_train)\n",
        "plt.show()"
      ],
      "execution_count": 108,
      "outputs": [
        {
          "output_type": "display_data",
          "data": {
            "image/png": "[encoded data removed]",
            "text/plain": [
              "<Figure size 432x288 with 1 Axes>"
            ]
          },
          "metadata": {
            "tags": []
          }
        }
      ]
    },
    {
      "cell_type": "code",
      "metadata": {
        "id": "DF_rLiRe1rw3",
        "colab_type": "code",
        "outputId": "b15cdc1c-b24f-439f-9797-efe615b7baae",
        "colab": {
          "base_uri": "https://localhost:8080/",
          "height": 34
        }
      },
      "source": [
        "'''Using Linear Regression Model'''\n",
        "'''Creating object of the Linear Regression Model'''\n",
        "lr = LinearRegression()\n",
        "'''Fitting training data into the model'''\n",
        "lr.fit(x_train,y_train)"
      ],
      "execution_count": 109,
      "outputs": [
        {
          "output_type": "execute_result",
          "data": {
            "text/plain": [
              "LinearRegression(copy_X=True, fit_intercept=True, n_jobs=None, normalize=False)"
            ]
          },
          "metadata": {
            "tags": []
          },
          "execution_count": 109
        }
      ]
    },
    {
      "cell_type": "code",
      "metadata": {
        "id": "eEr2pipRMYgj",
        "colab_type": "code",
        "outputId": "80b077f1-b6e9-4016-b5f7-72ad99d97db9",
        "colab": {
          "base_uri": "https://localhost:8080/",
          "height": 118
        }
      },
      "source": [
        "'''Making predictions with our model'''\n",
        "predictions = lr.predict(x_test)\n",
        "print(predictions)"
      ],
      "execution_count": 110,
      "outputs": [
        {
          "output_type": "stream",
          "text": [
            "[[36833.63210301]\n",
            " [34919.71472592]\n",
            " [67456.3101364 ]\n",
            " [59800.64062805]\n",
            " [92337.23603852]\n",
            " [81810.69046455]]\n"
          ],
          "name": "stdout"
        }
      ]
    },
    {
      "cell_type": "code",
      "metadata": {
        "id": "FD11pGjTQD-U",
        "colab_type": "code",
        "outputId": "bfc510ff-5d5d-4e43-c167-70db1608b4aa",
        "colab": {
          "base_uri": "https://localhost:8080/",
          "height": 301
        }
      },
      "source": [
        "'''Visualizing comparison'''\n",
        "plt.xlabel(\"Years of experience\")\n",
        "plt.ylabel(\"Salary\")\n",
        "plt.title(\"Comparison Graph\")\n",
        "plt.plot(x_train,lr.predict(x_train))\n",
        "plt.scatter(x_train,lr.predict(x_train))\n",
        "plt.show()"
      ],
      "execution_count": 111,
      "outputs": [
        {
          "output_type": "display_data",
          "data": {
            "image/png": "[encoded data removed]",
            "text/plain": [
              "<Figure size 432x288 with 1 Axes>"
            ]
          },
          "metadata": {
            "tags": []
          }
        }
      ]
    },
    {
      "cell_type": "code",
      "metadata": {
        "id": "nW39NsdlNTBc",
        "colab_type": "code",
        "outputId": "372f4839-289b-4bde-9ed5-438235da7258",
        "colab": {
          "base_uri": "https://localhost:8080/",
          "height": 34
        }
      },
      "source": [
        "'''Evaluating our model by checking its accuracy'''\n",
        "accuracy = r2_score(y_test,predictions)\n",
        "accuracy = round(accuracy,4)*100\n",
        "print(\"Accuracy of the model is \", accuracy, \"%\")"
      ],
      "execution_count": 112,
      "outputs": [
        {
          "output_type": "stream",
          "text": [
            "Accuracy of the model is  88.87 %\n"
          ],
          "name": "stdout"
        }
      ]
    },
    {
      "cell_type": "markdown",
      "metadata": {
        "id": "pKqQsEldS9rW",
        "colab_type": "text"
      },
      "source": [
        "*   ...\n",
        "    *  ### Logistic Regression\n",
        "    This is used to model the probability of a certain class or event existing such as pass/fail, win/lose, alive/dead or healthy/sick into 1 or 0.\n",
        "\n",
        "\n",
        "> ![Logistic Regression Formula](https://encrypted-tbn0.gstatic.com/images?q=tbn%3AANd9GcSIoARB5EkbSCK39w7JkImnqTcUIK1pqqUlq3KXysr_EH9xt_0t&usqp=CAU)\n",
        "\n",
        "\n"
      ]
    },
    {
      "cell_type": "code",
      "metadata": {
        "id": "GE2TktNDhYLa",
        "colab_type": "code",
        "colab": {}
      },
      "source": [
        "'''Logistic Regression Model'''\n",
        "from sklearn.linear_model import LogisticRegression\n",
        "'''Confusion Matrix for evaluation of the model'''\n",
        "from sklearn.metrics import accuracy_score, confusion_matrix\n",
        "'''Standard scaler is used to scale down large data into smaller and standard form which eases the calculation'''\n",
        "from sklearn.preprocessing import StandardScaler"
      ],
      "execution_count": 0,
      "outputs": []
    },
    {
      "cell_type": "code",
      "metadata": {
        "id": "uhXX8RjSoRRl",
        "colab_type": "code",
        "outputId": "26f33f2d-2d0f-4fc3-f74c-3b067b5ff062",
        "colab": {
          "base_uri": "https://localhost:8080/",
          "height": 343
        }
      },
      "source": [
        "'''Dataset we are gonna work on'''\n",
        "path = \"https://raw.githubusercontent.com/themightyNJ/MachineLearning/master/Social_Network_Ads.csv\"\n",
        "data = pd.read_csv(path)\n",
        "data.head(10)"
      ],
      "execution_count": 114,
      "outputs": [
        {
          "output_type": "execute_result",
          "data": {
            "text/html": [
              "<div>\n",
              "<style scoped>\n",
              "    .dataframe tbody tr th:only-of-type {\n",
              "        vertical-align: middle;\n",
              "    }\n",
              "\n",
              "    .dataframe tbody tr th {\n",
              "        vertical-align: top;\n",
              "    }\n",
              "\n",
              "    .dataframe thead th {\n",
              "        text-align: right;\n",
              "    }\n",
              "</style>\n",
              "<table border=\"1\" class=\"dataframe\">\n",
              "  <thead>\n",
              "    <tr style=\"text-align: right;\">\n",
              "      <th></th>\n",
              "      <th>User ID</th>\n",
              "      <th>Gender</th>\n",
              "      <th>Age</th>\n",
              "      <th>EstimatedSalary</th>\n",
              "      <th>Purchased</th>\n",
              "    </tr>\n",
              "  </thead>\n",
              "  <tbody>\n",
              "    <tr>\n",
              "      <th>0</th>\n",
              "      <td>15624510</td>\n",
              "      <td>Male</td>\n",
              "      <td>19</td>\n",
              "      <td>19000</td>\n",
              "      <td>0</td>\n",
              "    </tr>\n",
              "    <tr>\n",
              "      <th>1</th>\n",
              "      <td>15810944</td>\n",
              "      <td>Male</td>\n",
              "      <td>35</td>\n",
              "      <td>20000</td>\n",
              "      <td>0</td>\n",
              "    </tr>\n",
              "    <tr>\n",
              "      <th>2</th>\n",
              "      <td>15668575</td>\n",
              "      <td>Female</td>\n",
              "      <td>26</td>\n",
              "      <td>43000</td>\n",
              "      <td>0</td>\n",
              "    </tr>\n",
              "    <tr>\n",
              "      <th>3</th>\n",
              "      <td>15603246</td>\n",
              "      <td>Female</td>\n",
              "      <td>27</td>\n",
              "      <td>57000</td>\n",
              "      <td>0</td>\n",
              "    </tr>\n",
              "    <tr>\n",
              "      <th>4</th>\n",
              "      <td>15804002</td>\n",
              "      <td>Male</td>\n",
              "      <td>19</td>\n",
              "      <td>76000</td>\n",
              "      <td>0</td>\n",
              "    </tr>\n",
              "    <tr>\n",
              "      <th>5</th>\n",
              "      <td>15728773</td>\n",
              "      <td>Male</td>\n",
              "      <td>27</td>\n",
              "      <td>58000</td>\n",
              "      <td>0</td>\n",
              "    </tr>\n",
              "    <tr>\n",
              "      <th>6</th>\n",
              "      <td>15598044</td>\n",
              "      <td>Female</td>\n",
              "      <td>27</td>\n",
              "      <td>84000</td>\n",
              "      <td>0</td>\n",
              "    </tr>\n",
              "    <tr>\n",
              "      <th>7</th>\n",
              "      <td>15694829</td>\n",
              "      <td>Female</td>\n",
              "      <td>32</td>\n",
              "      <td>150000</td>\n",
              "      <td>1</td>\n",
              "    </tr>\n",
              "    <tr>\n",
              "      <th>8</th>\n",
              "      <td>15600575</td>\n",
              "      <td>Male</td>\n",
              "      <td>25</td>\n",
              "      <td>33000</td>\n",
              "      <td>0</td>\n",
              "    </tr>\n",
              "    <tr>\n",
              "      <th>9</th>\n",
              "      <td>15727311</td>\n",
              "      <td>Female</td>\n",
              "      <td>35</td>\n",
              "      <td>65000</td>\n",
              "      <td>0</td>\n",
              "    </tr>\n",
              "  </tbody>\n",
              "</table>\n",
              "</div>"
            ],
            "text/plain": [
              "    User ID  Gender  Age  EstimatedSalary  Purchased\n",
              "0  15624510    Male   19            19000          0\n",
              "1  15810944    Male   35            20000          0\n",
              "2  15668575  Female   26            43000          0\n",
              "3  15603246  Female   27            57000          0\n",
              "4  15804002    Male   19            76000          0\n",
              "5  15728773    Male   27            58000          0\n",
              "6  15598044  Female   27            84000          0\n",
              "7  15694829  Female   32           150000          1\n",
              "8  15600575    Male   25            33000          0\n",
              "9  15727311  Female   35            65000          0"
            ]
          },
          "metadata": {
            "tags": []
          },
          "execution_count": 114
        }
      ]
    },
    {
      "cell_type": "code",
      "metadata": {
        "id": "LFxRKzkKp0xB",
        "colab_type": "code",
        "colab": {}
      },
      "source": [
        "'''Selecting our feature and target'''\n",
        "feature = data.iloc[:,[2,3]]\n",
        "target = data.iloc[:,-1]\n",
        "'''Splitting it into 2 parts: Train and Test'''\n",
        "x_train,x_test,y_train,y_test = train_test_split(feature,target,test_size=0.2,random_state=2)"
      ],
      "execution_count": 0,
      "outputs": []
    },
    {
      "cell_type": "code",
      "metadata": {
        "id": "QKkrGnQPrAAc",
        "colab_type": "code",
        "colab": {}
      },
      "source": [
        "'''Scaling the data using Standard Scaler'''\n",
        "'''Creating an object of StandardScaler'''\n",
        "ss = StandardScaler()\n",
        "'''Fitting and transforming data'''\n",
        "x_train = ss.fit_transform(x_train)\n",
        "x_test = ss.fit_transform(x_test)"
      ],
      "execution_count": 0,
      "outputs": []
    },
    {
      "cell_type": "code",
      "metadata": {
        "id": "mf8dylsSrBbs",
        "colab_type": "code",
        "outputId": "0727b5c6-ff13-4ca4-d5e3-1e5567cb6112",
        "colab": {
          "base_uri": "https://localhost:8080/",
          "height": 101
        }
      },
      "source": [
        "'''Data after scaling'''\n",
        "print(x_train[0:5])"
      ],
      "execution_count": 117,
      "outputs": [
        {
          "output_type": "stream",
          "text": [
            "[[ 0.88928823 -0.65924556]\n",
            " [-0.17254846  0.87392651]\n",
            " [-1.04132394 -0.36440478]\n",
            " [ 0.98581884  0.6085698 ]\n",
            " [-0.94479333  0.57908572]]\n"
          ],
          "name": "stdout"
        }
      ]
    },
    {
      "cell_type": "code",
      "metadata": {
        "id": "78ia6ztxyG0I",
        "colab_type": "code",
        "outputId": "5f1fac3a-302e-4b38-ceaa-3fd9550d64d8",
        "colab": {
          "base_uri": "https://localhost:8080/",
          "height": 101
        }
      },
      "source": [
        "'''Using Logistic Regression Model'''\n",
        "'''Creating object of the Logistic Regression Model'''\n",
        "log = LogisticRegression()\n",
        "'''Fitting training data into the model'''\n",
        "log.fit(x_train,y_train)"
      ],
      "execution_count": 118,
      "outputs": [
        {
          "output_type": "execute_result",
          "data": {
            "text/plain": [
              "LogisticRegression(C=1.0, class_weight=None, dual=False, fit_intercept=True,\n",
              "                   intercept_scaling=1, l1_ratio=None, max_iter=100,\n",
              "                   multi_class='auto', n_jobs=None, penalty='l2',\n",
              "                   random_state=None, solver='lbfgs', tol=0.0001, verbose=0,\n",
              "                   warm_start=False)"
            ]
          },
          "metadata": {
            "tags": []
          },
          "execution_count": 118
        }
      ]
    },
    {
      "cell_type": "code",
      "metadata": {
        "id": "fmZj0WxTzWLI",
        "colab_type": "code",
        "outputId": "aa94b35a-610b-4882-b907-7676f788e792",
        "colab": {
          "base_uri": "https://localhost:8080/",
          "height": 67
        }
      },
      "source": [
        "'''Making predictions with our model'''\n",
        "predictions = log.predict(x_test)\n",
        "print(predictions)"
      ],
      "execution_count": 119,
      "outputs": [
        {
          "output_type": "stream",
          "text": [
            "[0 0 0 0 1 0 0 0 0 1 0 0 0 1 0 0 0 1 1 0 0 0 0 0 0 0 0 0 1 0 0 0 0 0 1 0 1\n",
            " 0 0 1 0 0 0 1 0 1 0 0 1 0 0 1 0 0 0 0 0 1 1 0 0 1 1 0 0 1 0 0 0 1 0 1 0 0\n",
            " 1 0 1 0 1 0]\n"
          ],
          "name": "stdout"
        }
      ]
    },
    {
      "cell_type": "markdown",
      "metadata": {
        "id": "Wywc7gcG6hW9",
        "colab_type": "text"
      },
      "source": [
        "#### Confusion Matrix\n",
        "![Confusion Matrix](data:image/png;base64,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)\n",
        "\n"
      ]
    },
    {
      "cell_type": "code",
      "metadata": {
        "id": "BK4zzEOk7RA6",
        "colab_type": "code",
        "outputId": "bc427e24-f707-4a51-eba0-2404ebb0fcf0",
        "colab": {
          "base_uri": "https://localhost:8080/",
          "height": 50
        }
      },
      "source": [
        "'''Evaluating our model by Confusion Matrix'''\n",
        "cm = confusion_matrix(y_test,predictions)\n",
        "print(cm)"
      ],
      "execution_count": 120,
      "outputs": [
        {
          "output_type": "stream",
          "text": [
            "[[45  3]\n",
            " [12 20]]\n"
          ],
          "name": "stdout"
        }
      ]
    },
    {
      "cell_type": "markdown",
      "metadata": {
        "id": "adyPt3_V74bz",
        "colab_type": "text"
      },
      "source": [
        "**Right Predictions**\n",
        "\n",
        "[Actual No, Predicted No] = 45 \n",
        "\n",
        "[Actual Yes, Predicted Yes] = 20\n",
        "\n",
        "Total Right Predictions => 45 + 20 = 65\n",
        "\n",
        "**Wrong Predictions**\n",
        "\n",
        "[Actual No, Predicted Yes] = 3\n",
        "\n",
        "[Actual Yes, Predicted No] = 12\n",
        "\n",
        "Total Wrong Predictions => 3 + 12 = 15\n",
        "\n",
        "Total Number of Predictions = 80\n",
        "\n",
        "Accuracy = Total Right Predictions/Total Number of Predictions\n",
        "\n",
        "Accuracy = 65/80\n",
        "\n",
        "Accuracy = 0.8125 \n",
        "\n",
        "OR \n",
        "\n",
        "Accuracy = 81.25%"
      ]
    },
    {
      "cell_type": "code",
      "metadata": {
        "id": "WtGxIRr656I_",
        "colab_type": "code",
        "outputId": "bf0be9ca-9e2d-4341-f3b2-c4f5c213ac5a",
        "colab": {
          "base_uri": "https://localhost:8080/",
          "height": 34
        }
      },
      "source": [
        "'''Evaluating our model by checking its accuracy'''\n",
        "accuracy = accuracy_score(y_test,predictions)\n",
        "accuracy = round(accuracy,4)*100\n",
        "print(\"Accuracy of the model is \", accuracy, \"%\")"
      ],
      "execution_count": 121,
      "outputs": [
        {
          "output_type": "stream",
          "text": [
            "Accuracy of the model is  81.25 %\n"
          ],
          "name": "stdout"
        }
      ]
    },
    {
      "cell_type": "markdown",
      "metadata": {
        "id": "DBvfrI6eGd9g",
        "colab_type": "text"
      },
      "source": [
        "* ...\n",
        "    * ### K - Nearest Neighbors\n",
        "    K nearest neighbors is a simple algorithm that stores all available cases and classifies new cases based on a similarity measure (e.g., distance functions).\n",
        "    > ![KNN](data:image/png;base64,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)\n",
        "\n",
        "**Euclidean Distance** \n",
        "> ![Euclidean Distance](data:image/jpeg;base64,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)"
      ]
    },
    {
      "cell_type": "code",
      "metadata": {
        "id": "3b46049vKAft",
        "colab_type": "code",
        "colab": {}
      },
      "source": [
        "'''K - Nearest neighbor Model'''\n",
        "from sklearn.neighbors import KNeighborsClassifier"
      ],
      "execution_count": 0,
      "outputs": []
    },
    {
      "cell_type": "code",
      "metadata": {
        "id": "EgMj7BMrMyw-",
        "colab_type": "code",
        "outputId": "52331422-f092-4c61-901e-82cc72770a27",
        "colab": {
          "base_uri": "https://localhost:8080/",
          "height": 343
        }
      },
      "source": [
        "'''Dataset we are gonna work on'''\n",
        "from sklearn.datasets import load_iris\n",
        "dataset = load_iris()\n",
        "data = pd.DataFrame(dataset[\"data\"],columns = dataset[\"feature_names\"])\n",
        "data[\"class\"] = dataset[\"target\"]\n",
        "data.head(10)"
      ],
      "execution_count": 123,
      "outputs": [
        {
          "output_type": "execute_result",
          "data": {
            "text/html": [
              "<div>\n",
              "<style scoped>\n",
              "    .dataframe tbody tr th:only-of-type {\n",
              "        vertical-align: middle;\n",
              "    }\n",
              "\n",
              "    .dataframe tbody tr th {\n",
              "        vertical-align: top;\n",
              "    }\n",
              "\n",
              "    .dataframe thead th {\n",
              "        text-align: right;\n",
              "    }\n",
              "</style>\n",
              "<table border=\"1\" class=\"dataframe\">\n",
              "  <thead>\n",
              "    <tr style=\"text-align: right;\">\n",
              "      <th></th>\n",
              "      <th>sepal length (cm)</th>\n",
              "      <th>sepal width (cm)</th>\n",
              "      <th>petal length (cm)</th>\n",
              "      <th>petal width (cm)</th>\n",
              "      <th>class</th>\n",
              "    </tr>\n",
              "  </thead>\n",
              "  <tbody>\n",
              "    <tr>\n",
              "      <th>0</th>\n",
              "      <td>5.1</td>\n",
              "      <td>3.5</td>\n",
              "      <td>1.4</td>\n",
              "      <td>0.2</td>\n",
              "      <td>0</td>\n",
              "    </tr>\n",
              "    <tr>\n",
              "      <th>1</th>\n",
              "      <td>4.9</td>\n",
              "      <td>3.0</td>\n",
              "      <td>1.4</td>\n",
              "      <td>0.2</td>\n",
              "      <td>0</td>\n",
              "    </tr>\n",
              "    <tr>\n",
              "      <th>2</th>\n",
              "      <td>4.7</td>\n",
              "      <td>3.2</td>\n",
              "      <td>1.3</td>\n",
              "      <td>0.2</td>\n",
              "      <td>0</td>\n",
              "    </tr>\n",
              "    <tr>\n",
              "      <th>3</th>\n",
              "      <td>4.6</td>\n",
              "      <td>3.1</td>\n",
              "      <td>1.5</td>\n",
              "      <td>0.2</td>\n",
              "      <td>0</td>\n",
              "    </tr>\n",
              "    <tr>\n",
              "      <th>4</th>\n",
              "      <td>5.0</td>\n",
              "      <td>3.6</td>\n",
              "      <td>1.4</td>\n",
              "      <td>0.2</td>\n",
              "      <td>0</td>\n",
              "    </tr>\n",
              "    <tr>\n",
              "      <th>5</th>\n",
              "      <td>5.4</td>\n",
              "      <td>3.9</td>\n",
              "      <td>1.7</td>\n",
              "      <td>0.4</td>\n",
              "      <td>0</td>\n",
              "    </tr>\n",
              "    <tr>\n",
              "      <th>6</th>\n",
              "      <td>4.6</td>\n",
              "      <td>3.4</td>\n",
              "      <td>1.4</td>\n",
              "      <td>0.3</td>\n",
              "      <td>0</td>\n",
              "    </tr>\n",
              "    <tr>\n",
              "      <th>7</th>\n",
              "      <td>5.0</td>\n",
              "      <td>3.4</td>\n",
              "      <td>1.5</td>\n",
              "      <td>0.2</td>\n",
              "      <td>0</td>\n",
              "    </tr>\n",
              "    <tr>\n",
              "      <th>8</th>\n",
              "      <td>4.4</td>\n",
              "      <td>2.9</td>\n",
              "      <td>1.4</td>\n",
              "      <td>0.2</td>\n",
              "      <td>0</td>\n",
              "    </tr>\n",
              "    <tr>\n",
              "      <th>9</th>\n",
              "      <td>4.9</td>\n",
              "      <td>3.1</td>\n",
              "      <td>1.5</td>\n",
              "      <td>0.1</td>\n",
              "      <td>0</td>\n",
              "    </tr>\n",
              "  </tbody>\n",
              "</table>\n",
              "</div>"
            ],
            "text/plain": [
              "   sepal length (cm)  sepal width (cm)  ...  petal width (cm)  class\n",
              "0                5.1               3.5  ...               0.2      0\n",
              "1                4.9               3.0  ...               0.2      0\n",
              "2                4.7               3.2  ...               0.2      0\n",
              "3                4.6               3.1  ...               0.2      0\n",
              "4                5.0               3.6  ...               0.2      0\n",
              "5                5.4               3.9  ...               0.4      0\n",
              "6                4.6               3.4  ...               0.3      0\n",
              "7                5.0               3.4  ...               0.2      0\n",
              "8                4.4               2.9  ...               0.2      0\n",
              "9                4.9               3.1  ...               0.1      0\n",
              "\n",
              "[10 rows x 5 columns]"
            ]
          },
          "metadata": {
            "tags": []
          },
          "execution_count": 123
        }
      ]
    },
    {
      "cell_type": "code",
      "metadata": {
        "id": "fa5UlK5RNP4w",
        "colab_type": "code",
        "colab": {}
      },
      "source": [
        "'''Selecting our feature and target'''\n",
        "feature = data[[\"sepal length (cm)\",\"sepal width (cm)\",\"petal length (cm)\",\"petal width (cm)\"]] \n",
        "target = data[\"class\"]\n",
        "'''Splitting it into 2 parts: Train and Test'''\n",
        "x_train,x_test,y_train,y_test = train_test_split(feature,target,test_size=0.2,random_state=2)"
      ],
      "execution_count": 0,
      "outputs": []
    },
    {
      "cell_type": "code",
      "metadata": {
        "id": "ffWf9z9ES2lA",
        "colab_type": "code",
        "outputId": "51bf59fc-4445-4adc-a660-53c3dc243ad6",
        "colab": {
          "base_uri": "https://localhost:8080/",
          "height": 34
        }
      },
      "source": [
        "'''Data Visualization'''\n",
        "'''Library to plot 3d graphs'''\n",
        "from mpl_toolkits import mplot3d\n",
        "'''Creating 3D axis'''\n",
        "fig = plt.figure()"
      ],
      "execution_count": 125,
      "outputs": [
        {
          "output_type": "display_data",
          "data": {
            "text/plain": [
              "<Figure size 432x288 with 0 Axes>"
            ]
          },
          "metadata": {
            "tags": []
          }
        }
      ]
    },
    {
      "cell_type": "code",
      "metadata": {
        "id": "wUEY05cHYnMF",
        "colab_type": "code",
        "outputId": "80740e57-9f35-4b0b-b4b0-9a4a39a30c10",
        "colab": {
          "base_uri": "https://localhost:8080/",
          "height": 248
        }
      },
      "source": [
        "'''Plotting on basis of Sepal features'''\n",
        "ax = plt.axes(projection='3d')\n",
        "ax.scatter3D(feature[\"sepal length (cm)\"], feature[\"sepal width (cm)\"], target, c=target, cmap = \"Accent\")\n",
        "ax.set_title(\"Sepal Freatures\")\n",
        "ax.set_xlabel('Sepal Length')\n",
        "ax.set_ylabel('Sepal Width')\n",
        "ax.set_zlabel('Class')\n",
        "plt.show()"
      ],
      "execution_count": 126,
      "outputs": [
        {
          "output_type": "display_data",
          "data": {
            "image/png": "[encoded data removed]",
            "text/plain": [
              "<Figure size 432x288 with 1 Axes>"
            ]
          },
          "metadata": {
            "tags": []
          }
        }
      ]
    },
    {
      "cell_type": "code",
      "metadata": {
        "id": "VXrJEST8Yrfq",
        "colab_type": "code",
        "outputId": "4a413d11-6f05-40cb-f768-584f4f45ee5c",
        "colab": {
          "base_uri": "https://localhost:8080/",
          "height": 248
        }
      },
      "source": [
        "'''Plotting on basis of Petal features'''\n",
        "ax = plt.axes(projection='3d')\n",
        "ax.scatter3D(feature[\"petal length (cm)\"], feature[\"petal width (cm)\"], target, c=target, cmap = \"Accent\")\n",
        "ax.set_title(\"Petal Freatures\")\n",
        "ax.set_xlabel('Petal Length')\n",
        "ax.set_ylabel('Petal Width')\n",
        "ax.set_zlabel('Class')\n",
        "plt.show()"
      ],
      "execution_count": 127,
      "outputs": [
        {
          "output_type": "display_data",
          "data": {
            "image/png": "[encoded data removed]",
            "text/plain": [
              "<Figure size 432x288 with 1 Axes>"
            ]
          },
          "metadata": {
            "tags": []
          }
        }
      ]
    },
    {
      "cell_type": "code",
      "metadata": {
        "id": "S1dfNBsIOxsu",
        "colab_type": "code",
        "outputId": "fa115940-bca9-4c8d-8474-412440faada9",
        "colab": {
          "base_uri": "https://localhost:8080/",
          "height": 67
        }
      },
      "source": [
        "'''Using KNN Model'''\n",
        "'''Creating object of the KNN Model with 3 nearest neighbors'''\n",
        "knn = KNeighborsClassifier(n_neighbors=3)\n",
        "'''Fitting training data into the model'''\n",
        "knn.fit(x_train,y_train)"
      ],
      "execution_count": 128,
      "outputs": [
        {
          "output_type": "execute_result",
          "data": {
            "text/plain": [
              "KNeighborsClassifier(algorithm='auto', leaf_size=30, metric='minkowski',\n",
              "                     metric_params=None, n_jobs=None, n_neighbors=3, p=2,\n",
              "                     weights='uniform')"
            ]
          },
          "metadata": {
            "tags": []
          },
          "execution_count": 128
        }
      ]
    },
    {
      "cell_type": "code",
      "metadata": {
        "id": "PDnfRVfARvQY",
        "colab_type": "code",
        "outputId": "2f0336d1-daad-4f25-97ff-630ca2172356",
        "colab": {
          "base_uri": "https://localhost:8080/",
          "height": 34
        }
      },
      "source": [
        "'''Making Predictions'''\n",
        "predictions = knn.predict(x_test)\n",
        "print(predictions)"
      ],
      "execution_count": 129,
      "outputs": [
        {
          "output_type": "stream",
          "text": [
            "[0 0 2 0 0 2 0 2 2 0 0 0 0 0 1 1 0 1 2 1 1 1 2 1 1 0 0 2 0 2]\n"
          ],
          "name": "stdout"
        }
      ]
    },
    {
      "cell_type": "code",
      "metadata": {
        "id": "8nMfidP6SBar",
        "colab_type": "code",
        "outputId": "ef92172a-5e81-4980-837b-f17804ba65b1",
        "colab": {
          "base_uri": "https://localhost:8080/",
          "height": 34
        }
      },
      "source": [
        "'''Evaluating our model by checking its accuracy'''\n",
        "accuracy = knn.score(x_test, y_test)\n",
        "accuracy = round(accuracy,4)*100\n",
        "print(\"Accuracy of the model is \", accuracy, \"%\")"
      ],
      "execution_count": 130,
      "outputs": [
        {
          "output_type": "stream",
          "text": [
            "Accuracy of the model is  100.0 %\n"
          ],
          "name": "stdout"
        }
      ]
    },
    {
      "cell_type": "markdown",
      "metadata": {
        "id": "0-8m0yhTe_YR",
        "colab_type": "text"
      },
      "source": [
        "* ## Unsupervised Learning Algorithm\n",
        "    * ### K - Means Clustering\n",
        "    Partitioning n observations into k clusters in which each observation belongs to the cluster with the nearest mean, serving as a prototype of the cluster.\n",
        "\n",
        "    > ![Kmeans Clustering](data:image/png;base64,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)"
      ]
    },
    {
      "cell_type": "code",
      "metadata": {
        "id": "fqxpPyLwgkU5",
        "colab_type": "code",
        "colab": {}
      },
      "source": [
        "'''K means Model'''\n",
        "from sklearn.cluster import KMeans"
      ],
      "execution_count": 0,
      "outputs": []
    },
    {
      "cell_type": "code",
      "metadata": {
        "id": "UF4UP2g6hvmn",
        "colab_type": "code",
        "colab": {
          "base_uri": "https://localhost:8080/",
          "height": 343
        },
        "outputId": "1e032fba-a904-43ec-c20c-182be73791dd"
      },
      "source": [
        "'''Dataset we are gonna use'''\n",
        "dataset = load_iris()\n",
        "data = pd.DataFrame(dataset[\"data\"],columns = dataset[\"feature_names\"])\n",
        "data[\"class\"] = dataset[\"target\"]\n",
        "data.head(10)"
      ],
      "execution_count": 132,
      "outputs": [
        {
          "output_type": "execute_result",
          "data": {
            "text/html": [
              "<div>\n",
              "<style scoped>\n",
              "    .dataframe tbody tr th:only-of-type {\n",
              "        vertical-align: middle;\n",
              "    }\n",
              "\n",
              "    .dataframe tbody tr th {\n",
              "        vertical-align: top;\n",
              "    }\n",
              "\n",
              "    .dataframe thead th {\n",
              "        text-align: right;\n",
              "    }\n",
              "</style>\n",
              "<table border=\"1\" class=\"dataframe\">\n",
              "  <thead>\n",
              "    <tr style=\"text-align: right;\">\n",
              "      <th></th>\n",
              "      <th>sepal length (cm)</th>\n",
              "      <th>sepal width (cm)</th>\n",
              "      <th>petal length (cm)</th>\n",
              "      <th>petal width (cm)</th>\n",
              "      <th>class</th>\n",
              "    </tr>\n",
              "  </thead>\n",
              "  <tbody>\n",
              "    <tr>\n",
              "      <th>0</th>\n",
              "      <td>5.1</td>\n",
              "      <td>3.5</td>\n",
              "      <td>1.4</td>\n",
              "      <td>0.2</td>\n",
              "      <td>0</td>\n",
              "    </tr>\n",
              "    <tr>\n",
              "      <th>1</th>\n",
              "      <td>4.9</td>\n",
              "      <td>3.0</td>\n",
              "      <td>1.4</td>\n",
              "      <td>0.2</td>\n",
              "      <td>0</td>\n",
              "    </tr>\n",
              "    <tr>\n",
              "      <th>2</th>\n",
              "      <td>4.7</td>\n",
              "      <td>3.2</td>\n",
              "      <td>1.3</td>\n",
              "      <td>0.2</td>\n",
              "      <td>0</td>\n",
              "    </tr>\n",
              "    <tr>\n",
              "      <th>3</th>\n",
              "      <td>4.6</td>\n",
              "      <td>3.1</td>\n",
              "      <td>1.5</td>\n",
              "      <td>0.2</td>\n",
              "      <td>0</td>\n",
              "    </tr>\n",
              "    <tr>\n",
              "      <th>4</th>\n",
              "      <td>5.0</td>\n",
              "      <td>3.6</td>\n",
              "      <td>1.4</td>\n",
              "      <td>0.2</td>\n",
              "      <td>0</td>\n",
              "    </tr>\n",
              "    <tr>\n",
              "      <th>5</th>\n",
              "      <td>5.4</td>\n",
              "      <td>3.9</td>\n",
              "      <td>1.7</td>\n",
              "      <td>0.4</td>\n",
              "      <td>0</td>\n",
              "    </tr>\n",
              "    <tr>\n",
              "      <th>6</th>\n",
              "      <td>4.6</td>\n",
              "      <td>3.4</td>\n",
              "      <td>1.4</td>\n",
              "      <td>0.3</td>\n",
              "      <td>0</td>\n",
              "    </tr>\n",
              "    <tr>\n",
              "      <th>7</th>\n",
              "      <td>5.0</td>\n",
              "      <td>3.4</td>\n",
              "      <td>1.5</td>\n",
              "      <td>0.2</td>\n",
              "      <td>0</td>\n",
              "    </tr>\n",
              "    <tr>\n",
              "      <th>8</th>\n",
              "      <td>4.4</td>\n",
              "      <td>2.9</td>\n",
              "      <td>1.4</td>\n",
              "      <td>0.2</td>\n",
              "      <td>0</td>\n",
              "    </tr>\n",
              "    <tr>\n",
              "      <th>9</th>\n",
              "      <td>4.9</td>\n",
              "      <td>3.1</td>\n",
              "      <td>1.5</td>\n",
              "      <td>0.1</td>\n",
              "      <td>0</td>\n",
              "    </tr>\n",
              "  </tbody>\n",
              "</table>\n",
              "</div>"
            ],
            "text/plain": [
              "   sepal length (cm)  sepal width (cm)  ...  petal width (cm)  class\n",
              "0                5.1               3.5  ...               0.2      0\n",
              "1                4.9               3.0  ...               0.2      0\n",
              "2                4.7               3.2  ...               0.2      0\n",
              "3                4.6               3.1  ...               0.2      0\n",
              "4                5.0               3.6  ...               0.2      0\n",
              "5                5.4               3.9  ...               0.4      0\n",
              "6                4.6               3.4  ...               0.3      0\n",
              "7                5.0               3.4  ...               0.2      0\n",
              "8                4.4               2.9  ...               0.2      0\n",
              "9                4.9               3.1  ...               0.1      0\n",
              "\n",
              "[10 rows x 5 columns]"
            ]
          },
          "metadata": {
            "tags": []
          },
          "execution_count": 132
        }
      ]
    },
    {
      "cell_type": "code",
      "metadata": {
        "id": "ib4QPDbuiYLC",
        "colab_type": "code",
        "colab": {}
      },
      "source": [
        "'''Selecting our feature'''\n",
        "feature = data[[\"sepal length (cm)\",\"sepal width (cm)\",\"petal length (cm)\",\"petal width (cm)\"]].values "
      ],
      "execution_count": 0,
      "outputs": []
    },
    {
      "cell_type": "code",
      "metadata": {
        "id": "v-QATssti5IP",
        "colab_type": "code",
        "colab": {
          "base_uri": "https://localhost:8080/",
          "height": 302
        },
        "outputId": "482bd639-5b14-4a05-84c3-263e6313e595"
      },
      "source": [
        "'''Elbow Method to find the appropriate number of clusters data can be divided into'''\n",
        "mylist = list()\n",
        "for i in range(1,11):\n",
        "    kmeans = KMeans(n_clusters=i)\n",
        "    kmeans.fit_transform(feature)\n",
        "    mylist.append(kmeans.inertia_)\n",
        "\n",
        "plt.xlabel(\"Optimum K value\")\n",
        "plt.plot(range(1,11),mylist)\n",
        "plt.legend()\n",
        "plt.show()"
      ],
      "execution_count": 134,
      "outputs": [
        {
          "output_type": "stream",
          "text": [
            "No handles with labels found to put in legend.\n"
          ],
          "name": "stderr"
        },
        {
          "output_type": "display_data",
          "data": {
            "image/png": "[encoded data removed]",
            "text/plain": [
              "<Figure size 432x288 with 1 Axes>"
            ]
          },
          "metadata": {
            "tags": []
          }
        }
      ]
    },
    {
      "cell_type": "code",
      "metadata": {
        "id": "EDze-ozpkHIM",
        "colab_type": "code",
        "colab": {
          "base_uri": "https://localhost:8080/",
          "height": 134
        },
        "outputId": "eb70c226-92c7-4691-eb7f-42238e699a36"
      },
      "source": [
        "'''Creating an object of Kmeans model'''\n",
        "kmeans = KMeans(n_clusters = 3)\n",
        "'''Fitting data and making predictions'''\n",
        "predictions = kmeans.fit_predict(feature)\n",
        "predictions"
      ],
      "execution_count": 135,
      "outputs": [
        {
          "output_type": "execute_result",
          "data": {
            "text/plain": [
              "array([1, 1, 1, 1, 1, 1, 1, 1, 1, 1, 1, 1, 1, 1, 1, 1, 1, 1, 1, 1, 1, 1,\n",
              "       1, 1, 1, 1, 1, 1, 1, 1, 1, 1, 1, 1, 1, 1, 1, 1, 1, 1, 1, 1, 1, 1,\n",
              "       1, 1, 1, 1, 1, 1, 0, 0, 2, 0, 0, 0, 0, 0, 0, 0, 0, 0, 0, 0, 0, 0,\n",
              "       0, 0, 0, 0, 0, 0, 0, 0, 0, 0, 0, 2, 0, 0, 0, 0, 0, 0, 0, 0, 0, 0,\n",
              "       0, 0, 0, 0, 0, 0, 0, 0, 0, 0, 0, 0, 2, 0, 2, 2, 2, 2, 0, 2, 2, 2,\n",
              "       2, 2, 2, 0, 0, 2, 2, 2, 2, 0, 2, 0, 2, 0, 2, 2, 0, 0, 2, 2, 2, 2,\n",
              "       2, 0, 2, 2, 2, 2, 0, 2, 2, 2, 0, 2, 2, 2, 0, 2, 2, 0], dtype=int32)"
            ]
          },
          "metadata": {
            "tags": []
          },
          "execution_count": 135
        }
      ]
    },
    {
      "cell_type": "code",
      "metadata": {
        "id": "CZ_nTS9HqBQi",
        "colab_type": "code",
        "colab": {
          "base_uri": "https://localhost:8080/",
          "height": 301
        },
        "outputId": "155dd9a9-9267-4cae-f8b5-d92e6c08960f"
      },
      "source": [
        "'''Visualizing the clusters'''\n",
        "plt.scatter(feature[predictions == 0,0], feature[predictions == 0,1], s= 50, c = \"#b7effb\",label = \"Class 0\")\n",
        "plt.scatter(feature[predictions == 1,0], feature[predictions == 1,1], s= 50, c = \"#e3c6f0\",label = \"Class 1\")\n",
        "plt.scatter(feature[predictions == 2,0], feature[predictions == 2,1], s= 50, c = \"#c7f2cc\",label = \"Class 2\")\n",
        "plt.scatter(kmeans.cluster_centers_[:,0],kmeans.cluster_centers_[:,1],s = 75,c = \"#f00000\",label = \"Centroids\")\n",
        "plt.title(\"Clusters of Iris\")\n",
        "plt.xlabel(\"Sepal Features\")\n",
        "plt.ylabel(\"Petal Features\")\n",
        "plt.legend(loc = \"upper right\")\n",
        "plt.show()"
      ],
      "execution_count": 136,
      "outputs": [
        {
          "output_type": "display_data",
          "data": {
            "image/png": "[encoded data removed]",
            "text/plain": [
              "<Figure size 432x288 with 1 Axes>"
            ]
          },
          "metadata": {
            "tags": []
          }
        }
      ]
    }
  ]
}